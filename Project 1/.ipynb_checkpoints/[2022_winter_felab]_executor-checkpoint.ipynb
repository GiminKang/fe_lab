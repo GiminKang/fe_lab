{
 "cells": [
  {
   "cell_type": "code",
   "execution_count": 1,
   "id": "b61d7453",
   "metadata": {},
   "outputs": [],
   "source": [
    "%run [2022_winter_felab]_example_function.ipynb\n",
    "\n"
   ]
  },
  {
   "cell_type": "code",
   "execution_count": 2,
   "id": "c370d013",
   "metadata": {},
   "outputs": [],
   "source": [
    "filename = 'test_file.csv'\n",
    "df = pd.read_csv(filename, encoding = 'utf-8-sig', index_col = 0)"
   ]
  },
  {
   "cell_type": "code",
   "execution_count": 3,
   "id": "fc8acad6",
   "metadata": {},
   "outputs": [],
   "source": [
    "date_set = list(set(df[df.index > '2016'].index))\n",
    "date_set.sort()"
   ]
  },
  {
   "cell_type": "code",
   "execution_count": 7,
   "id": "9b9b686f",
   "metadata": {},
   "outputs": [
    {
     "name": "stderr",
     "output_type": "stream",
     "text": [
      "C:\\Users\\ISCHOI\\AppData\\Roaming\\Python\\Python39\\site-packages\\networkx\\algorithms\\centrality\\trophic.py:45: FutureWarning: adjacency_matrix will return a scipy.sparse array instead of a matrix in Networkx 3.0.\n",
      "  a = nx.adjacency_matrix(G, weight=weight).T.toarray()\n",
      "C:\\Users\\ISCHOI\\AppData\\Roaming\\Python\\Python39\\site-packages\\networkx\\algorithms\\link_analysis\\hits_alg.py:78: FutureWarning: adjacency_matrix will return a scipy.sparse array instead of a matrix in Networkx 3.0.\n",
      "  A = nx.adjacency_matrix(G, nodelist=list(G), dtype=float)\n"
     ]
    }
   ],
   "source": [
    "network_level = pd.DataFrame()\n",
    "node_level = pd.DataFrame()\n",
    "\n",
    "for ix in range(0, len(date_set)):\n",
    "    try:\n",
    "        df = pd.read_csv(filename, encoding = 'utf-8-sig', index_col = 0)\n",
    "        df_set = df[df.index ==  date_set[ix]]\n",
    "        df_significance = df_set[df_set['PV_PMT'] < 0.1]    \n",
    "        df_processed = df_significance[df_significance['ETE'] != 0]\n",
    "        df_final = df_processed[['X', 'Y', 'ETE']]\n",
    "        G = nx.DiGraph()\n",
    "\n",
    "        for i in range(0, len(df_final)):\n",
    "            G.add_edge(df_final.iloc[i, 0], df_final.iloc[i, 1], weight=df_final.iloc[i, 2])\n",
    "\n",
    "        name = date_set[ix] + '_granger_causality'    \n",
    "        \n",
    "        pos = nx.circular_layout(G)\n",
    "        directed_network_level_temp = directed_network_level(G)\n",
    "        directed_network_level_temp.index = [date_set[ix]]\n",
    "        network_level = pd.concat([network_level, directed_network_level_temp])\n",
    "        directed_node_level_temp = directed_node_level(G).reset_index()\n",
    "        directed_node_level_temp.insert(0, 'Date', date_set[ix])\n",
    "        directed_node_level_temp.set_index('Date')\n",
    "        node_level = pd.concat([node_level, directed_node_level_temp])\n",
    "\n",
    "    except:\n",
    "        continue\n",
    "        \n",
    "        \n",
    "    plt.show()\n",
    "    \n",
    "network_level.to_csv('network_level.csv')\n",
    "node_level.to_csv('node_level.csv')\n"
   ]
  }
 ],
 "metadata": {
  "kernelspec": {
   "display_name": "Python 3 (ipykernel)",
   "language": "python",
   "name": "python3"
  },
  "language_info": {
   "codemirror_mode": {
    "name": "ipython",
    "version": 3
   },
   "file_extension": ".py",
   "mimetype": "text/x-python",
   "name": "python",
   "nbconvert_exporter": "python",
   "pygments_lexer": "ipython3",
   "version": "3.9.13"
  }
 },
 "nbformat": 4,
 "nbformat_minor": 5
}
