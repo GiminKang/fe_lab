{
 "cells": [
  {
   "cell_type": "code",
   "execution_count": 1,
   "id": "b61d7453",
   "metadata": {},
   "outputs": [],
   "source": [
    "%run Networkit_example.ipynb"
   ]
  },
  {
   "cell_type": "code",
   "execution_count": 2,
   "id": "c370d013",
   "metadata": {},
   "outputs": [],
   "source": [
    "filename = 'test_file.csv'\n",
    "df = pd.read_csv(filename, encoding = 'utf-8-sig', index_col = 0)"
   ]
  },
  {
   "cell_type": "code",
   "execution_count": 3,
   "id": "fc8acad6",
   "metadata": {},
   "outputs": [],
   "source": [
    "date_set = list(set(df[df.index > '2016'].index))\n",
    "date_set.sort()"
   ]
  },
  {
   "cell_type": "code",
   "execution_count": 4,
   "id": "9b9b686f",
   "metadata": {},
   "outputs": [
    {
     "name": "stderr",
     "output_type": "stream",
     "text": [
      "C:\\Users\\Gimin\\anaconda3\\lib\\site-packages\\networkx\\algorithms\\assortativity\\correlation.py:282: RuntimeWarning: invalid value encountered in double_scalars\n",
      "  return (xy * (M - ab)).sum() / np.sqrt(vara * varb)\n",
      "C:\\Users\\Gimin\\anaconda3\\lib\\site-packages\\networkx\\algorithms\\assortativity\\mixing.py:208: RuntimeWarning: invalid value encountered in true_divide\n",
      "  a = a / a.sum()\n",
      "C:\\Users\\Gimin\\anaconda3\\lib\\site-packages\\networkx\\algorithms\\assortativity\\correlation.py:282: RuntimeWarning: divide by zero encountered in double_scalars\n",
      "  return (xy * (M - ab)).sum() / np.sqrt(vara * varb)\n",
      "C:\\Users\\Gimin\\anaconda3\\lib\\site-packages\\networkx\\algorithms\\assortativity\\correlation.py:282: RuntimeWarning: invalid value encountered in sqrt\n",
      "  return (xy * (M - ab)).sum() / np.sqrt(vara * varb)\n"
     ]
    }
   ],
   "source": [
    "network_level = pd.DataFrame()\n",
    "node_level = pd.DataFrame()\n",
    "\n",
    "for ix in range(0, len(date_set)):\n",
    "    try:\n",
    "        df = pd.read_csv(filename, encoding = 'utf-8-sig', index_col = 0)\n",
    "        df_set = df[df.index ==  date_set[ix]]\n",
    "        df_significance = df_set[df_set['PV_PMT'] < 0.1]    \n",
    "        df_processed = df_significance[df_significance['ETE'] != 0]\n",
    "        df_final = df_processed[['X', 'Y', 'ETE']]\n",
    "        G = nx.DiGraph()\n",
    "\n",
    "        for i in range(0, len(df_final)):\n",
    "            G.add_edge(df_final.iloc[i, 0], df_final.iloc[i, 1], weight=df_final.iloc[i, 2])\n",
    "\n",
    "        #name = date_set[ix] + '_granger_causality'    \n",
    "        \n",
    "        pos = nx.circular_layout(G)\n",
    "        directed_network_level_temp = directed_network_level(G)\n",
    "        directed_network_level_temp.index = [date_set[ix]]\n",
    "        network_level = pd.concat([network_level, directed_network_level_temp])\n",
    "        directed_node_level_temp = directed_node_level(G).reset_index()\n",
    "        directed_node_level_temp.insert(0, 'Date', date_set[ix])\n",
    "        directed_node_level_temp.set_index('Date')\n",
    "        node_level = pd.concat([node_level, directed_node_level_temp])\n",
    "\n",
    "    except:\n",
    "        continue\n",
    "        \n",
    "        \n",
    "    plt.show()\n",
    "    \n",
    "network_level.to_csv('network_level.csv')\n",
    "node_level.to_csv('node_level.csv')"
   ]
  }
 ],
 "metadata": {
  "kernelspec": {
   "display_name": "Python 3 (ipykernel)",
   "language": "python",
   "name": "python3"
  },
  "language_info": {
   "codemirror_mode": {
    "name": "ipython",
    "version": 3
   },
   "file_extension": ".py",
   "mimetype": "text/x-python",
   "name": "python",
   "nbconvert_exporter": "python",
   "pygments_lexer": "ipython3",
   "version": "3.9.13"
  }
 },
 "nbformat": 4,
 "nbformat_minor": 5
}
